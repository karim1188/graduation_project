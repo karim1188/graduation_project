{
 "cells": [
  {
   "cell_type": "code",
   "execution_count": 1,
   "id": "6b2bce42",
   "metadata": {},
   "outputs": [
    {
     "name": "stderr",
     "output_type": "stream",
     "text": [
      "[nltk_data] Downloading package wordnet to\n",
      "[nltk_data]     C:\\Users\\Yousef\\AppData\\Roaming\\nltk_data...\n",
      "[nltk_data]   Package wordnet is already up-to-date!\n",
      "[nltk_data] Downloading package omw-1.4 to\n",
      "[nltk_data]     C:\\Users\\Yousef\\AppData\\Roaming\\nltk_data...\n",
      "[nltk_data]   Package omw-1.4 is already up-to-date!\n",
      "[nltk_data] Downloading package stopwords to\n",
      "[nltk_data]     C:\\Users\\Yousef\\AppData\\Roaming\\nltk_data...\n",
      "[nltk_data]   Package stopwords is already up-to-date!\n"
     ]
    },
    {
     "name": "stdout",
     "output_type": "stream",
     "text": [
      "Requirement already satisfied: gensim in c:\\users\\yousef\\anaconda3\\lib\\site-packages (4.3.1)\n",
      "Requirement already satisfied: scipy>=1.7.0 in c:\\users\\yousef\\anaconda3\\lib\\site-packages (from gensim) (1.9.1)\n",
      "Requirement already satisfied: numpy>=1.18.5 in c:\\users\\yousef\\anaconda3\\lib\\site-packages (from gensim) (1.23.5)\n",
      "Requirement already satisfied: smart-open>=1.8.1 in c:\\users\\yousef\\anaconda3\\lib\\site-packages (from gensim) (5.2.1)\n"
     ]
    }
   ],
   "source": [
    "import pandas as pd\n",
    "from sklearn.feature_extraction.text import CountVectorizer, TfidfVectorizer\n",
    "import matplotlib.pyplot as plt\n",
    "import numpy as np\n",
    "import seaborn as sns\n",
    "from imblearn.over_sampling import RandomOverSampler \n",
    "from collections import Counter\n",
    "from sklearn.utils import resample\n",
    "import re\n",
    "import nltk \n",
    "from nltk.stem.porter import *\n",
    "from nltk.stem.snowball import SnowballStemmer\n",
    "from nltk.stem import WordNetLemmatizer\n",
    "nltk.download('wordnet')\n",
    "nltk.download('omw-1.4')\n",
    "nltk.download('stopwords')\n",
    "import time\n",
    "import timeit\n",
    "from sklearn import preprocessing\n",
    "!pip install --upgrade gensim\n",
    "from gensim.models import Word2Vec\n",
    "import gensim\n",
    "from gensim.models import KeyedVectors\n",
    "from gensim.scripts.glove2word2vec import glove2word2vec\n",
    "from sklearn.model_selection import train_test_split\n",
    "from tensorflow.keras.preprocessing.text import Tokenizer\n",
    "from keras.utils import pad_sequences\n",
    "from keras.models import Sequential\n",
    "from keras.layers import Dense, Input, Embedding,Activation\n",
    "from keras.layers import Dense, SimpleRNN, Flatten\n",
    "from keras.layers import LSTM, Activation, Dense, Dropout, Input, Embedding\n",
    "from keras.models import Model\n",
    "from sklearn import svm\n",
    "from sklearn.preprocessing import StandardScaler\n",
    "from sklearn.metrics import  accuracy_score "
   ]
  },
  {
   "cell_type": "code",
   "execution_count": 2,
   "id": "aad38c1e",
   "metadata": {},
   "outputs": [
    {
     "name": "stdout",
     "output_type": "stream",
     "text": [
      "                                               tweet\n",
      "0  the tongue of his condition, now i saw things ...\n",
      "1  by god the great, after i saw the derby of wyd...\n",
      "2  believe in god, this zamalek fans are as good ...\n",
      "3  the coach appeared in the media and told the t...\n",
      "4  asno smito\\nwhoever knows her tells me a massa...\n",
      "                                               tweet\n",
      "0  sun downs technical director: al-ahly respecte...\n",
      "1  shawky gharib after the tie with enppi: our go...\n",
      "2  egyptian sports news today, wednesday 1/25/202...\n",
      "3  the main referees committee of the egyptian fo...\n",
      "4  haji bari, the striker of the future team, is ...\n"
     ]
    }
   ],
   "source": [
    "fakeD = pd.read_csv(\"fake_football.csv\")\n",
    "realD = pd.read_csv(\"real_football.csv\")\n",
    "print(fakeD.head())\n",
    "print(realD.head())"
   ]
  },
  {
   "cell_type": "code",
   "execution_count": 3,
   "id": "4d0c7cfb",
   "metadata": {},
   "outputs": [],
   "source": [
    "realD[\"type\"] = 0\n",
    "fakeD[\"type\"] = 1"
   ]
  },
  {
   "cell_type": "code",
   "execution_count": 4,
   "id": "48fa1238",
   "metadata": {},
   "outputs": [
    {
     "name": "stdout",
     "output_type": "stream",
     "text": [
      "                                               tweet  type\n",
      "0  the tongue of his condition, now i saw things ...     1\n",
      "1  by god the great, after i saw the derby of wyd...     1\n",
      "2  believe in god, this zamalek fans are as good ...     1\n",
      "3  the coach appeared in the media and told the t...     1\n",
      "4  asno smito\\nwhoever knows her tells me a massa...     1\n",
      "                                                   tweet  type\n",
      "21864  shawky gharib: we excluded 4 players from the ...     0\n",
      "21865  dina musharraf resumes her career in the singa...     0\n",
      "21866  indeed, al-ahly ended its agreement with ricar...     0\n",
      "21867  hazem imam, the captain of zamalek, decided to...     0\n",
      "21868  walid al-attar, executive director of the egyp...     0\n",
      "--------------------\n",
      "<class 'pandas.core.frame.DataFrame'>\n",
      "Int64Index: 41868 entries, 0 to 21868\n",
      "Data columns (total 2 columns):\n",
      " #   Column  Non-Null Count  Dtype \n",
      "---  ------  --------------  ----- \n",
      " 0   tweet   41851 non-null  object\n",
      " 1   type    41868 non-null  int64 \n",
      "dtypes: int64(1), object(1)\n",
      "memory usage: 981.3+ KB\n",
      "None\n"
     ]
    }
   ],
   "source": [
    "tweets = pd.concat([fakeD, realD])\n",
    "print(tweets.head())\n",
    "print(tweets.tail())\n",
    "print(\"--------------------\")\n",
    "print(tweets.info())"
   ]
  },
  {
   "cell_type": "code",
   "execution_count": 5,
   "id": "21a21dbe",
   "metadata": {},
   "outputs": [
    {
     "data": {
      "text/plain": [
       "tweet    17\n",
       "type      0\n",
       "dtype: int64"
      ]
     },
     "execution_count": 5,
     "metadata": {},
     "output_type": "execute_result"
    }
   ],
   "source": [
    "tweets.isnull().sum()"
   ]
  },
  {
   "cell_type": "code",
   "execution_count": 6,
   "id": "cdf32952",
   "metadata": {},
   "outputs": [
    {
     "name": "stdout",
     "output_type": "stream",
     "text": [
      "                                               tweet  type\n",
      "0  the al-ahly and real madrid match can be watch...     0\n",
      "1  ferreira, the coach of zamalek, faced the smou...     0\n",
      "2                     may god grant us victory today     0\n",
      "3   _ ukraine\\nimagine the coach wouldn't record ...     1\n",
      "4  haha ahmed al-sharif says to khaled al-ghandou...     1\n",
      "tweet    0\n",
      "type     0\n",
      "dtype: int64\n"
     ]
    }
   ],
   "source": [
    "tweets.dropna(inplace = True)\n",
    "tweets = tweets.sample(frac = 1).reset_index(drop = True)\n",
    "print(tweets.head())\n",
    "print(tweets.isnull().sum())"
   ]
  },
  {
   "cell_type": "code",
   "execution_count": 7,
   "id": "fa9fa99b",
   "metadata": {},
   "outputs": [
    {
     "data": {
      "text/plain": [
       "<AxesSubplot:title={'center':'Label'}, ylabel='Frequency'>"
      ]
     },
     "execution_count": 7,
     "metadata": {},
     "output_type": "execute_result"
    },
    {
     "data": {
      "image/png": "[encoded data removed]",
      "text/plain": [
       "<Figure size 400x300 with 1 Axes>"
      ]
     },
     "metadata": {},
     "output_type": "display_data"
    }
   ],
   "source": [
    "tweets[\"type\"].plot(kind = \"hist\",title = \"Label\",figsize = (4,3))"
   ]
  },
  {
   "cell_type": "code",
   "execution_count": 8,
   "id": "788037e1",
   "metadata": {},
   "outputs": [
    {
     "data": {
      "text/plain": [
       "0    21863\n",
       "1    19988\n",
       "Name: type, dtype: int64"
      ]
     },
     "execution_count": 8,
     "metadata": {},
     "output_type": "execute_result"
    }
   ],
   "source": [
    "tweets.type.value_counts()"
   ]
  },
  {
   "cell_type": "code",
   "execution_count": 9,
   "id": "21c0f6c6",
   "metadata": {},
   "outputs": [],
   "source": [
    "def tokenization(text):\n",
    "    tokens = re.findall('[\\w]+',text)\n",
    "    return tokens\n",
    "\n",
    "\n",
    "wordnet_lemmatizer = WordNetLemmatizer()\n",
    "def lemmatizer(text):\n",
    "  lemm_text = [wordnet_lemmatizer.lemmatize(word) for word in text if len(text) > 1]\n",
    "  return lemm_text\n",
    "\n",
    "\n",
    "stopwords = nltk.corpus.stopwords.words('english')\n",
    "stopwords[0:15]\n",
    "def remove_stopwords(text):\n",
    "    output= [i for i in text if i not in stopwords]\n",
    "    return output\n"
   ]
  },
  {
   "cell_type": "code",
   "execution_count": null,
   "id": "d67313b2",
   "metadata": {},
   "outputs": [],
   "source": []
  },
  {
   "cell_type": "code",
   "execution_count": null,
   "id": "1ea69949",
   "metadata": {},
   "outputs": [],
   "source": []
  },
  {
   "cell_type": "code",
   "execution_count": null,
   "id": "6d8169a0",
   "metadata": {},
   "outputs": [],
   "source": []
  },
  {
   "cell_type": "code",
   "execution_count": null,
   "id": "46f7d667",
   "metadata": {},
   "outputs": [],
   "source": []
  },
  {
   "cell_type": "code",
   "execution_count": null,
   "id": "d03307b3",
   "metadata": {},
   "outputs": [],
   "source": []
  },
  {
   "cell_type": "code",
   "execution_count": null,
   "id": "aea76629",
   "metadata": {},
   "outputs": [],
   "source": []
  },
  {
   "cell_type": "code",
   "execution_count": 10,
   "id": "b5a3a08f",
   "metadata": {},
   "outputs": [],
   "source": [
    "import string\n",
    "from nltk.corpus import stopwords\n",
    "from nltk.tokenize import word_tokenize\n",
    "wordnet_lemmatizer = WordNetLemmatizer()\n",
    "stopwords = set(stopwords.words('english'))\n",
    "def clean_n_lemmatize(text):\n",
    "    text_nopunct = ''.join([character for character in text.lower() if character not in string.punctuation])\n",
    "    tokens = tokenization(text_nopunct)\n",
    "    tokens_no_stop = remove_stopwords(tokens)\n",
    "    lemmatized_tokens = lemmatizer(tokens_no_stop)\n",
    "    return lemmatized_tokens"
   ]
  },
  {
   "cell_type": "code",
   "execution_count": 11,
   "id": "c1f9b822",
   "metadata": {},
   "outputs": [
    {
     "data": {
      "text/html": [
       "<div>\n",
       "<style scoped>\n",
       "    .dataframe tbody tr th:only-of-type {\n",
       "        vertical-align: middle;\n",
       "    }\n",
       "\n",
       "    .dataframe tbody tr th {\n",
       "        vertical-align: top;\n",
       "    }\n",
       "\n",
       "    .dataframe thead th {\n",
       "        text-align: right;\n",
       "    }\n",
       "</style>\n",
       "<table border=\"1\" class=\"dataframe\">\n",
       "  <thead>\n",
       "    <tr style=\"text-align: right;\">\n",
       "      <th></th>\n",
       "      <th>tweet</th>\n",
       "      <th>type</th>\n",
       "      <th>tokens</th>\n",
       "    </tr>\n",
       "  </thead>\n",
       "  <tbody>\n",
       "    <tr>\n",
       "      <th>0</th>\n",
       "      <td>the al-ahly and real madrid match can be watch...</td>\n",
       "      <td>0</td>\n",
       "      <td>[alahly, real, madrid, match, watched, ontime,...</td>\n",
       "    </tr>\n",
       "    <tr>\n",
       "      <th>1</th>\n",
       "      <td>ferreira, the coach of zamalek, faced the smou...</td>\n",
       "      <td>0</td>\n",
       "      <td>[ferreira, coach, zamalek, faced, smouha, team...</td>\n",
       "    </tr>\n",
       "    <tr>\n",
       "      <th>2</th>\n",
       "      <td>may god grant us victory today</td>\n",
       "      <td>0</td>\n",
       "      <td>[may, god, grant, u, victory, today]</td>\n",
       "    </tr>\n",
       "    <tr>\n",
       "      <th>3</th>\n",
       "      <td>_ ukraine\\nimagine the coach wouldn't record ...</td>\n",
       "      <td>1</td>\n",
       "      <td>[ukraine, imagine, coach, wouldnt, record, san...</td>\n",
       "    </tr>\n",
       "    <tr>\n",
       "      <th>4</th>\n",
       "      <td>haha ahmed al-sharif says to khaled al-ghandou...</td>\n",
       "      <td>1</td>\n",
       "      <td>[haha, ahmed, alsharif, say, khaled, alghandou...</td>\n",
       "    </tr>\n",
       "  </tbody>\n",
       "</table>\n",
       "</div>"
      ],
      "text/plain": [
       "                                               tweet  type  \\\n",
       "0  the al-ahly and real madrid match can be watch...     0   \n",
       "1  ferreira, the coach of zamalek, faced the smou...     0   \n",
       "2                     may god grant us victory today     0   \n",
       "3   _ ukraine\\nimagine the coach wouldn't record ...     1   \n",
       "4  haha ahmed al-sharif says to khaled al-ghandou...     1   \n",
       "\n",
       "                                              tokens  \n",
       "0  [alahly, real, madrid, match, watched, ontime,...  \n",
       "1  [ferreira, coach, zamalek, faced, smouha, team...  \n",
       "2               [may, god, grant, u, victory, today]  \n",
       "3  [ukraine, imagine, coach, wouldnt, record, san...  \n",
       "4  [haha, ahmed, alsharif, say, khaled, alghandou...  "
      ]
     },
     "execution_count": 11,
     "metadata": {},
     "output_type": "execute_result"
    }
   ],
   "source": [
    "tweets['tokens'] = tweets['tweet'].apply(clean_n_lemmatize)\n",
    "tweets.head()\n"
   ]
  },
  {
   "cell_type": "code",
   "execution_count": 12,
   "id": "eb072fde",
   "metadata": {},
   "outputs": [
    {
     "data": {
      "text/html": [
       "<div>\n",
       "<style scoped>\n",
       "    .dataframe tbody tr th:only-of-type {\n",
       "        vertical-align: middle;\n",
       "    }\n",
       "\n",
       "    .dataframe tbody tr th {\n",
       "        vertical-align: top;\n",
       "    }\n",
       "\n",
       "    .dataframe thead th {\n",
       "        text-align: right;\n",
       "    }\n",
       "</style>\n",
       "<table border=\"1\" class=\"dataframe\">\n",
       "  <thead>\n",
       "    <tr style=\"text-align: right;\">\n",
       "      <th></th>\n",
       "      <th>tweet</th>\n",
       "      <th>type</th>\n",
       "      <th>tokens</th>\n",
       "      <th>rejoined_string</th>\n",
       "    </tr>\n",
       "  </thead>\n",
       "  <tbody>\n",
       "    <tr>\n",
       "      <th>0</th>\n",
       "      <td>the al-ahly and real madrid match can be watch...</td>\n",
       "      <td>0</td>\n",
       "      <td>[alahly, real, madrid, match, watched, ontime,...</td>\n",
       "      <td>alahly real madrid match watched ontime sport ...</td>\n",
       "    </tr>\n",
       "    <tr>\n",
       "      <th>1</th>\n",
       "      <td>ferreira, the coach of zamalek, faced the smou...</td>\n",
       "      <td>0</td>\n",
       "      <td>[ferreira, coach, zamalek, faced, smouha, team...</td>\n",
       "      <td>ferreira coach zamalek faced smouha team twice...</td>\n",
       "    </tr>\n",
       "    <tr>\n",
       "      <th>2</th>\n",
       "      <td>may god grant us victory today</td>\n",
       "      <td>0</td>\n",
       "      <td>[may, god, grant, u, victory, today]</td>\n",
       "      <td>may god grant u victory today</td>\n",
       "    </tr>\n",
       "    <tr>\n",
       "      <th>3</th>\n",
       "      <td>_ ukraine\\nimagine the coach wouldn't record ...</td>\n",
       "      <td>1</td>\n",
       "      <td>[ukraine, imagine, coach, wouldnt, record, san...</td>\n",
       "      <td>ukraine imagine coach wouldnt record sancho re...</td>\n",
       "    </tr>\n",
       "    <tr>\n",
       "      <th>4</th>\n",
       "      <td>haha ahmed al-sharif says to khaled al-ghandou...</td>\n",
       "      <td>1</td>\n",
       "      <td>[haha, ahmed, alsharif, say, khaled, alghandou...</td>\n",
       "      <td>haha ahmed alsharif say khaled alghandour fan ...</td>\n",
       "    </tr>\n",
       "  </tbody>\n",
       "</table>\n",
       "</div>"
      ],
      "text/plain": [
       "                                               tweet  type  \\\n",
       "0  the al-ahly and real madrid match can be watch...     0   \n",
       "1  ferreira, the coach of zamalek, faced the smou...     0   \n",
       "2                     may god grant us victory today     0   \n",
       "3   _ ukraine\\nimagine the coach wouldn't record ...     1   \n",
       "4  haha ahmed al-sharif says to khaled al-ghandou...     1   \n",
       "\n",
       "                                              tokens  \\\n",
       "0  [alahly, real, madrid, match, watched, ontime,...   \n",
       "1  [ferreira, coach, zamalek, faced, smouha, team...   \n",
       "2               [may, god, grant, u, victory, today]   \n",
       "3  [ukraine, imagine, coach, wouldnt, record, san...   \n",
       "4  [haha, ahmed, alsharif, say, khaled, alghandou...   \n",
       "\n",
       "                                     rejoined_string  \n",
       "0  alahly real madrid match watched ontime sport ...  \n",
       "1  ferreira coach zamalek faced smouha team twice...  \n",
       "2                      may god grant u victory today  \n",
       "3  ukraine imagine coach wouldnt record sancho re...  \n",
       "4  haha ahmed alsharif say khaled alghandour fan ...  "
      ]
     },
     "execution_count": 12,
     "metadata": {},
     "output_type": "execute_result"
    }
   ],
   "source": [
    "tweets['rejoined_string'] = tweets.tokens.apply(lambda tokens: ' '.join(tokens))\n",
    "tweets.head()"
   ]
  },
  {
   "cell_type": "code",
   "execution_count": 13,
   "id": "f1fee736",
   "metadata": {},
   "outputs": [],
   "source": [
    "X_train, X_test, y_train, y_test = train_test_split(tweets.drop('type', axis = 1), tweets['type'],\n",
    "                                                    test_size=0.1, random_state=73, stratify = tweets['type'])"
   ]
  },
  {
   "cell_type": "code",
   "execution_count": 14,
   "id": "e516e90c",
   "metadata": {},
   "outputs": [],
   "source": [
    "tfidf = TfidfVectorizer(analyzer = clean_n_lemmatize)\n",
    "vectorized_weights_train = tfidf.fit_transform(X_train['tweet'])\n",
    "vectorized_weights_test = tfidf.transform(X_test['tweet'])"
   ]
  },
  {
   "cell_type": "code",
   "execution_count": 15,
   "id": "dfa8a4ae",
   "metadata": {},
   "outputs": [
    {
     "data": {
      "text/html": [
       "<div>\n",
       "<style scoped>\n",
       "    .dataframe tbody tr th:only-of-type {\n",
       "        vertical-align: middle;\n",
       "    }\n",
       "\n",
       "    .dataframe tbody tr th {\n",
       "        vertical-align: top;\n",
       "    }\n",
       "\n",
       "    .dataframe thead th {\n",
       "        text-align: right;\n",
       "    }\n",
       "</style>\n",
       "<table border=\"1\" class=\"dataframe\">\n",
       "  <thead>\n",
       "    <tr style=\"text-align: right;\">\n",
       "      <th></th>\n",
       "      <th>0</th>\n",
       "      <th>00</th>\n",
       "      <th>01</th>\n",
       "      <th>012</th>\n",
       "      <th>01313131313</th>\n",
       "      <th>014</th>\n",
       "      <th>018</th>\n",
       "      <th>02</th>\n",
       "      <th>020</th>\n",
       "      <th>021</th>\n",
       "      <th>...</th>\n",
       "      <th>zul</th>\n",
       "      <th>zulfi</th>\n",
       "      <th>zuma</th>\n",
       "      <th>zuraida</th>\n",
       "      <th>zuri</th>\n",
       "      <th>zurich</th>\n",
       "      <th>zuwara</th>\n",
       "      <th>zvizif</th>\n",
       "      <th>zwain</th>\n",
       "      <th>zwan</th>\n",
       "    </tr>\n",
       "  </thead>\n",
       "  <tbody>\n",
       "    <tr>\n",
       "      <th>0</th>\n",
       "      <td>0.0</td>\n",
       "      <td>0.0</td>\n",
       "      <td>0.0</td>\n",
       "      <td>0.0</td>\n",
       "      <td>0.0</td>\n",
       "      <td>0.0</td>\n",
       "      <td>0.0</td>\n",
       "      <td>0.0</td>\n",
       "      <td>0.0</td>\n",
       "      <td>0.0</td>\n",
       "      <td>...</td>\n",
       "      <td>0.0</td>\n",
       "      <td>0.0</td>\n",
       "      <td>0.0</td>\n",
       "      <td>0.0</td>\n",
       "      <td>0.0</td>\n",
       "      <td>0.0</td>\n",
       "      <td>0.0</td>\n",
       "      <td>0.0</td>\n",
       "      <td>0.0</td>\n",
       "      <td>0.0</td>\n",
       "    </tr>\n",
       "    <tr>\n",
       "      <th>1</th>\n",
       "      <td>0.0</td>\n",
       "      <td>0.0</td>\n",
       "      <td>0.0</td>\n",
       "      <td>0.0</td>\n",
       "      <td>0.0</td>\n",
       "      <td>0.0</td>\n",
       "      <td>0.0</td>\n",
       "      <td>0.0</td>\n",
       "      <td>0.0</td>\n",
       "      <td>0.0</td>\n",
       "      <td>...</td>\n",
       "      <td>0.0</td>\n",
       "      <td>0.0</td>\n",
       "      <td>0.0</td>\n",
       "      <td>0.0</td>\n",
       "      <td>0.0</td>\n",
       "      <td>0.0</td>\n",
       "      <td>0.0</td>\n",
       "      <td>0.0</td>\n",
       "      <td>0.0</td>\n",
       "      <td>0.0</td>\n",
       "    </tr>\n",
       "    <tr>\n",
       "      <th>2</th>\n",
       "      <td>0.0</td>\n",
       "      <td>0.0</td>\n",
       "      <td>0.0</td>\n",
       "      <td>0.0</td>\n",
       "      <td>0.0</td>\n",
       "      <td>0.0</td>\n",
       "      <td>0.0</td>\n",
       "      <td>0.0</td>\n",
       "      <td>0.0</td>\n",
       "      <td>0.0</td>\n",
       "      <td>...</td>\n",
       "      <td>0.0</td>\n",
       "      <td>0.0</td>\n",
       "      <td>0.0</td>\n",
       "      <td>0.0</td>\n",
       "      <td>0.0</td>\n",
       "      <td>0.0</td>\n",
       "      <td>0.0</td>\n",
       "      <td>0.0</td>\n",
       "      <td>0.0</td>\n",
       "      <td>0.0</td>\n",
       "    </tr>\n",
       "    <tr>\n",
       "      <th>3</th>\n",
       "      <td>0.0</td>\n",
       "      <td>0.0</td>\n",
       "      <td>0.0</td>\n",
       "      <td>0.0</td>\n",
       "      <td>0.0</td>\n",
       "      <td>0.0</td>\n",
       "      <td>0.0</td>\n",
       "      <td>0.0</td>\n",
       "      <td>0.0</td>\n",
       "      <td>0.0</td>\n",
       "      <td>...</td>\n",
       "      <td>0.0</td>\n",
       "      <td>0.0</td>\n",
       "      <td>0.0</td>\n",
       "      <td>0.0</td>\n",
       "      <td>0.0</td>\n",
       "      <td>0.0</td>\n",
       "      <td>0.0</td>\n",
       "      <td>0.0</td>\n",
       "      <td>0.0</td>\n",
       "      <td>0.0</td>\n",
       "    </tr>\n",
       "    <tr>\n",
       "      <th>4</th>\n",
       "      <td>0.0</td>\n",
       "      <td>0.0</td>\n",
       "      <td>0.0</td>\n",
       "      <td>0.0</td>\n",
       "      <td>0.0</td>\n",
       "      <td>0.0</td>\n",
       "      <td>0.0</td>\n",
       "      <td>0.0</td>\n",
       "      <td>0.0</td>\n",
       "      <td>0.0</td>\n",
       "      <td>...</td>\n",
       "      <td>0.0</td>\n",
       "      <td>0.0</td>\n",
       "      <td>0.0</td>\n",
       "      <td>0.0</td>\n",
       "      <td>0.0</td>\n",
       "      <td>0.0</td>\n",
       "      <td>0.0</td>\n",
       "      <td>0.0</td>\n",
       "      <td>0.0</td>\n",
       "      <td>0.0</td>\n",
       "    </tr>\n",
       "    <tr>\n",
       "      <th>5</th>\n",
       "      <td>0.0</td>\n",
       "      <td>0.0</td>\n",
       "      <td>0.0</td>\n",
       "      <td>0.0</td>\n",
       "      <td>0.0</td>\n",
       "      <td>0.0</td>\n",
       "      <td>0.0</td>\n",
       "      <td>0.0</td>\n",
       "      <td>0.0</td>\n",
       "      <td>0.0</td>\n",
       "      <td>...</td>\n",
       "      <td>0.0</td>\n",
       "      <td>0.0</td>\n",
       "      <td>0.0</td>\n",
       "      <td>0.0</td>\n",
       "      <td>0.0</td>\n",
       "      <td>0.0</td>\n",
       "      <td>0.0</td>\n",
       "      <td>0.0</td>\n",
       "      <td>0.0</td>\n",
       "      <td>0.0</td>\n",
       "    </tr>\n",
       "    <tr>\n",
       "      <th>6</th>\n",
       "      <td>0.0</td>\n",
       "      <td>0.0</td>\n",
       "      <td>0.0</td>\n",
       "      <td>0.0</td>\n",
       "      <td>0.0</td>\n",
       "      <td>0.0</td>\n",
       "      <td>0.0</td>\n",
       "      <td>0.0</td>\n",
       "      <td>0.0</td>\n",
       "      <td>0.0</td>\n",
       "      <td>...</td>\n",
       "      <td>0.0</td>\n",
       "      <td>0.0</td>\n",
       "      <td>0.0</td>\n",
       "      <td>0.0</td>\n",
       "      <td>0.0</td>\n",
       "      <td>0.0</td>\n",
       "      <td>0.0</td>\n",
       "      <td>0.0</td>\n",
       "      <td>0.0</td>\n",
       "      <td>0.0</td>\n",
       "    </tr>\n",
       "    <tr>\n",
       "      <th>7</th>\n",
       "      <td>0.0</td>\n",
       "      <td>0.0</td>\n",
       "      <td>0.0</td>\n",
       "      <td>0.0</td>\n",
       "      <td>0.0</td>\n",
       "      <td>0.0</td>\n",
       "      <td>0.0</td>\n",
       "      <td>0.0</td>\n",
       "      <td>0.0</td>\n",
       "      <td>0.0</td>\n",
       "      <td>...</td>\n",
       "      <td>0.0</td>\n",
       "      <td>0.0</td>\n",
       "      <td>0.0</td>\n",
       "      <td>0.0</td>\n",
       "      <td>0.0</td>\n",
       "      <td>0.0</td>\n",
       "      <td>0.0</td>\n",
       "      <td>0.0</td>\n",
       "      <td>0.0</td>\n",
       "      <td>0.0</td>\n",
       "    </tr>\n",
       "    <tr>\n",
       "      <th>8</th>\n",
       "      <td>0.0</td>\n",
       "      <td>0.0</td>\n",
       "      <td>0.0</td>\n",
       "      <td>0.0</td>\n",
       "      <td>0.0</td>\n",
       "      <td>0.0</td>\n",
       "      <td>0.0</td>\n",
       "      <td>0.0</td>\n",
       "      <td>0.0</td>\n",
       "      <td>0.0</td>\n",
       "      <td>...</td>\n",
       "      <td>0.0</td>\n",
       "      <td>0.0</td>\n",
       "      <td>0.0</td>\n",
       "      <td>0.0</td>\n",
       "      <td>0.0</td>\n",
       "      <td>0.0</td>\n",
       "      <td>0.0</td>\n",
       "      <td>0.0</td>\n",
       "      <td>0.0</td>\n",
       "      <td>0.0</td>\n",
       "    </tr>\n",
       "    <tr>\n",
       "      <th>9</th>\n",
       "      <td>0.0</td>\n",
       "      <td>0.0</td>\n",
       "      <td>0.0</td>\n",
       "      <td>0.0</td>\n",
       "      <td>0.0</td>\n",
       "      <td>0.0</td>\n",
       "      <td>0.0</td>\n",
       "      <td>0.0</td>\n",
       "      <td>0.0</td>\n",
       "      <td>0.0</td>\n",
       "      <td>...</td>\n",
       "      <td>0.0</td>\n",
       "      <td>0.0</td>\n",
       "      <td>0.0</td>\n",
       "      <td>0.0</td>\n",
       "      <td>0.0</td>\n",
       "      <td>0.0</td>\n",
       "      <td>0.0</td>\n",
       "      <td>0.0</td>\n",
       "      <td>0.0</td>\n",
       "      <td>0.0</td>\n",
       "    </tr>\n",
       "  </tbody>\n",
       "</table>\n",
       "<p>10 rows × 25595 columns</p>\n",
       "</div>"
      ],
      "text/plain": [
       "     0   00   01  012  01313131313  014  018   02  020  021  ...  zul  zulfi  \\\n",
       "0  0.0  0.0  0.0  0.0          0.0  0.0  0.0  0.0  0.0  0.0  ...  0.0    0.0   \n",
       "1  0.0  0.0  0.0  0.0          0.0  0.0  0.0  0.0  0.0  0.0  ...  0.0    0.0   \n",
       "2  0.0  0.0  0.0  0.0          0.0  0.0  0.0  0.0  0.0  0.0  ...  0.0    0.0   \n",
       "3  0.0  0.0  0.0  0.0          0.0  0.0  0.0  0.0  0.0  0.0  ...  0.0    0.0   \n",
       "4  0.0  0.0  0.0  0.0          0.0  0.0  0.0  0.0  0.0  0.0  ...  0.0    0.0   \n",
       "5  0.0  0.0  0.0  0.0          0.0  0.0  0.0  0.0  0.0  0.0  ...  0.0    0.0   \n",
       "6  0.0  0.0  0.0  0.0          0.0  0.0  0.0  0.0  0.0  0.0  ...  0.0    0.0   \n",
       "7  0.0  0.0  0.0  0.0          0.0  0.0  0.0  0.0  0.0  0.0  ...  0.0    0.0   \n",
       "8  0.0  0.0  0.0  0.0          0.0  0.0  0.0  0.0  0.0  0.0  ...  0.0    0.0   \n",
       "9  0.0  0.0  0.0  0.0          0.0  0.0  0.0  0.0  0.0  0.0  ...  0.0    0.0   \n",
       "\n",
       "   zuma  zuraida  zuri  zurich  zuwara  zvizif  zwain  zwan  \n",
       "0   0.0      0.0   0.0     0.0     0.0     0.0    0.0   0.0  \n",
       "1   0.0      0.0   0.0     0.0     0.0     0.0    0.0   0.0  \n",
       "2   0.0      0.0   0.0     0.0     0.0     0.0    0.0   0.0  \n",
       "3   0.0      0.0   0.0     0.0     0.0     0.0    0.0   0.0  \n",
       "4   0.0      0.0   0.0     0.0     0.0     0.0    0.0   0.0  \n",
       "5   0.0      0.0   0.0     0.0     0.0     0.0    0.0   0.0  \n",
       "6   0.0      0.0   0.0     0.0     0.0     0.0    0.0   0.0  \n",
       "7   0.0      0.0   0.0     0.0     0.0     0.0    0.0   0.0  \n",
       "8   0.0      0.0   0.0     0.0     0.0     0.0    0.0   0.0  \n",
       "9   0.0      0.0   0.0     0.0     0.0     0.0    0.0   0.0  \n",
       "\n",
       "[10 rows x 25595 columns]"
      ]
     },
     "execution_count": 15,
     "metadata": {},
     "output_type": "execute_result"
    }
   ],
   "source": [
    "vectorized_sparse_df = pd.DataFrame(vectorized_weights_train.toarray(), columns = tfidf.get_feature_names_out())\n",
    "vectorized_sparse_df.head(10)"
   ]
  },
  {
   "cell_type": "code",
   "execution_count": 16,
   "id": "15e4d713",
   "metadata": {},
   "outputs": [
    {
     "name": "stdout",
     "output_type": "stream",
     "text": [
      "['5352' '53rd' '54' '5423' '545' '54th' '55' '550' '555'\n",
      " '55555555555555555555555' '55kg' '55th' '56' '560' '5683768' '56th' '57'\n",
      " '570' '57409195th' '575000' '5797' '57th' '58' '582' '58th' '59' '59th'\n",
      " '5agency' '5all' '5another' '5day' '5m' '5th' '5year' '6' '60' '600'\n",
      " '6000' '60000' '600000' '60meter' '60th' '61' '612023' '6122022' '614'\n",
      " '615' '617' '61d' '61st' '62' '622023' '626' '626636' '62nd' '63' '630'\n",
      " '632023' '63rd' '64' '64th' '65' '650' '65000' '650000' '653' '6537843'\n",
      " '6558' '65th' '65yearold' '66' '662' '6667' '66th' '67' '6767' '6771'\n",
      " '68' '683' '685000' '6864' '68th' '69' '6955' '6965' '6970' '69th'\n",
      " '6alahly' '6center' '6d' '6dont' '6m' '6month' '6th' '6we' '6x6' '6yard'\n",
      " '6year' '7' '70' '700' '70000' '700000' '70000000' '7057' '70th' '71'\n",
      " '710' '712022' '712023' '7122022' '719' '72' '720' '722' '722023'\n",
      " '72hour' '72nd' '73' '730' '732023' '7398' '73rd'\n",
      " '73transferforthemustaqbal' '74' '7459' '7465' '748' '74th' '75' '750'\n",
      " '75000' '7500000' '7562' '75th' '76' '760' '7655' '76th' '77']\n"
     ]
    }
   ],
   "source": [
    "print(tfidf.get_feature_names_out()[735:875])"
   ]
  },
  {
   "cell_type": "code",
   "execution_count": 17,
   "id": "96aff159",
   "metadata": {},
   "outputs": [
    {
     "data": {
      "text/plain": [
       "MultinomialNB()"
      ]
     },
     "execution_count": 17,
     "metadata": {},
     "output_type": "execute_result"
    }
   ],
   "source": [
    "from sklearn.naive_bayes import MultinomialNB\n",
    "nb = MultinomialNB()\n",
    "nb.fit(vectorized_weights_train, y_train)"
   ]
  },
  {
   "cell_type": "code",
   "execution_count": 55,
   "id": "e37a4458",
   "metadata": {},
   "outputs": [
    {
     "name": "stdout",
     "output_type": "stream",
     "text": [
      "CLassification Report :\n",
      "\n",
      "              precision    recall  f1-score   support\n",
      "\n",
      "        Real       0.94      0.94      0.94      2187\n",
      "        Fake       0.93      0.94      0.94      1999\n",
      "\n",
      "    accuracy                           0.94      4186\n",
      "   macro avg       0.94      0.94      0.94      4186\n",
      "weighted avg       0.94      0.94      0.94      4186\n",
      "\n",
      "Confusion Matrix :\n",
      "\n",
      "[[2056  131]\n",
      " [ 127 1872]]\n"
     ]
    },
    {
     "data": {
      "text/plain": [
       "<sklearn.metrics._plot.confusion_matrix.ConfusionMatrixDisplay at 0x204d0a3e130>"
      ]
     },
     "execution_count": 55,
     "metadata": {},
     "output_type": "execute_result"
    },
    {
     "data": {
      "image/png": "[encoded data removed]",
      "text/plain": [
       "<Figure size 640x480 with 2 Axes>"
      ]
     },
     "metadata": {},
     "output_type": "display_data"
    }
   ],
   "source": [
    "from sklearn.metrics import confusion_matrix, classification_report, ConfusionMatrixDisplay, accuracy_score\n",
    "y_pred = nb.predict(vectorized_weights_test)\n",
    "\n",
    "print('CLassification Report :\\n')\n",
    "print(classification_report(y_test, y_pred, target_names = ['Real', 'Fake']))\n",
    "\n",
    "print('Confusion Matrix :\\n')\n",
    "print(confusion_matrix(y_test, y_pred))\n",
    "\n",
    "ConfusionMatrixDisplay.from_predictions(y_test, y_pred, labels = nb.classes_, cmap = 'magma')"
   ]
  },
  {
   "cell_type": "code",
   "execution_count": 19,
   "id": "b075c13f",
   "metadata": {},
   "outputs": [
    {
     "name": "stdout",
     "output_type": "stream",
     "text": [
      "CLassification Report :\n",
      "\n",
      "              precision    recall  f1-score   support\n",
      "\n",
      "        Real       0.95      0.93      0.94      2187\n",
      "        Fake       0.92      0.95      0.94      1999\n",
      "\n",
      "    accuracy                           0.94      4186\n",
      "   macro avg       0.94      0.94      0.94      4186\n",
      "weighted avg       0.94      0.94      0.94      4186\n",
      "\n",
      "Confusion Matrix :\n",
      "\n",
      "[[2033  154]\n",
      " [ 104 1895]]\n"
     ]
    },
    {
     "data": {
      "text/plain": [
       "<sklearn.metrics._plot.confusion_matrix.ConfusionMatrixDisplay at 0x204d0a3ed00>"
      ]
     },
     "execution_count": 19,
     "metadata": {},
     "output_type": "execute_result"
    },
    {
     "data": {
      "image/png": "[encoded data removed]",
      "text/plain": [
       "<Figure size 640x480 with 2 Axes>"
      ]
     },
     "metadata": {},
     "output_type": "display_data"
    }
   ],
   "source": [
    "cv = CountVectorizer(analyzer = clean_n_lemmatize)\n",
    "vectorized_sparse_matrix_train = cv.fit_transform(X_train['tweet'])\n",
    "vectorized_sparse_matrix_test = cv.transform(X_test['tweet'])\n",
    "\n",
    "nb2 = MultinomialNB()\n",
    "nb2.fit(vectorized_sparse_matrix_train, y_train)\n",
    "\n",
    "y_pred2 = nb2.predict(vectorized_sparse_matrix_test)\n",
    "\n",
    "print('CLassification Report :\\n')\n",
    "print(classification_report(y_test, y_pred2, target_names = ['Real', 'Fake']))\n",
    "\n",
    "print('Confusion Matrix :\\n')\n",
    "print(confusion_matrix(y_test, y_pred2))\n",
    "\n",
    "ConfusionMatrixDisplay.from_predictions(y_test, y_pred2, labels = nb2.classes_, cmap = 'magma')"
   ]
  },
  {
   "cell_type": "code",
   "execution_count": 20,
   "id": "e57c967f",
   "metadata": {},
   "outputs": [
    {
     "name": "stdout",
     "output_type": "stream",
     "text": [
      "(37665, 627110)\n",
      "CLassification Report :\n",
      "\n",
      "              precision    recall  f1-score   support\n",
      "\n",
      "        Real       0.89      0.95      0.92      2187\n",
      "        Fake       0.95      0.87      0.90      1999\n",
      "\n",
      "    accuracy                           0.91      4186\n",
      "   macro avg       0.92      0.91      0.91      4186\n",
      "weighted avg       0.92      0.91      0.91      4186\n",
      "\n",
      "Confusion Matrix :\n",
      "\n",
      "[[2088   99]\n",
      " [ 266 1733]]\n"
     ]
    },
    {
     "data": {
      "text/plain": [
       "<sklearn.metrics._plot.confusion_matrix.ConfusionMatrixDisplay at 0x204d0a48bb0>"
      ]
     },
     "execution_count": 20,
     "metadata": {},
     "output_type": "execute_result"
    },
    {
     "data": {
      "image/png": "[encoded data removed]",
      "text/plain": [
       "<Figure size 640x480 with 2 Axes>"
      ]
     },
     "metadata": {},
     "output_type": "display_data"
    }
   ],
   "source": [
    "cv_ngrams = CountVectorizer(ngram_range = (2, 3))\n",
    "\n",
    "\n",
    "vectorized_word_combo_train = cv_ngrams.fit_transform(X_train['rejoined_string'])\n",
    "vectorized_word_combo_test = cv_ngrams.transform(X_test['rejoined_string'])\n",
    "\n",
    "print(vectorized_word_combo_train.shape)\n",
    "\n",
    "nb3 = MultinomialNB()\n",
    "nb3.fit(vectorized_word_combo_train, y_train)\n",
    "\n",
    "y_pred3 = nb3.predict(vectorized_word_combo_test)\n",
    "\n",
    "print('CLassification Report :\\n')\n",
    "print(classification_report(y_test, y_pred3, target_names = ['Real', 'Fake']))\n",
    "\n",
    "print('Confusion Matrix :\\n')\n",
    "print(confusion_matrix(y_test, y_pred3))\n",
    "\n",
    "ConfusionMatrixDisplay.from_predictions(y_test, y_pred3, labels = nb3.classes_, cmap = 'magma')"
   ]
  },
  {
   "cell_type": "code",
   "execution_count": 21,
   "id": "66b0ff02",
   "metadata": {},
   "outputs": [
    {
     "name": "stdout",
     "output_type": "stream",
     "text": [
      "\n",
      "Accuracy using Multinomial Naive Bayes on\n",
      "\n",
      "Data Vectorized by TF-IDF Vectorizer : 93.83659818442428%\n",
      "Data Vectorized by Count Vectorizer : 93.83659818442428%\n",
      "Data Vectorized by N-grams Vectorizer : 91.28045867176301%\n"
     ]
    }
   ],
   "source": [
    "print('\\nAccuracy using Multinomial Naive Bayes on\\n')\n",
    "print('Data Vectorized by TF-IDF Vectorizer : {}%'.format(100 * accuracy_score(y_test, y_pred)))\n",
    "print('Data Vectorized by Count Vectorizer : {}%'.format(100 * accuracy_score(y_test, y_pred2)))\n",
    "print('Data Vectorized by N-grams Vectorizer : {}%'.format(100 * accuracy_score(y_test, y_pred3)))"
   ]
  },
  {
   "cell_type": "code",
   "execution_count": 46,
   "id": "7cae220e",
   "metadata": {},
   "outputs": [
    {
     "data": {
      "text/plain": [
       "<1x25595 sparse matrix of type '<class 'numpy.float64'>'\n",
       "\twith 7 stored elements in Compressed Sparse Row format>"
      ]
     },
     "execution_count": 46,
     "metadata": {},
     "output_type": "execute_result"
    }
   ],
   "source": [
    "news = str(\"salamat found the player and did not kick\")+str(\" \")+str(\"from cameroon - learn about the most prominent\")\n",
    "testing_news = {\"text\": [news]}\n",
    "new_def_test = pd.DataFrame(testing_news)\n",
    "new_xv_test = new_def_test[\"text\"]\n",
    "text_clean = new_xv_test.apply(clean_n_lemmatize)\n",
    "new_x_test = new_def_test[\"text\"]\n",
    "vect = tfidf.transform(new_x_test)\n"
   ]
  },
  {
   "cell_type": "code",
   "execution_count": 69,
   "id": "0aefa58c",
   "metadata": {},
   "outputs": [],
   "source": [
    "import pickle\n",
    "import joblib\n",
    "filename = 'cleaning.pkl'\n",
    "pd.to_pickle(clean_n_lemmatize,filename)\n",
    "\n",
    "filename = 'vectorizer.pkl'\n",
    "pd.to_pickle(tfidf,filename)\n",
    "\n",
    "filename = 'multimodel.pkl'\n",
    "pd.to_pickle(nb,filename)"
   ]
  },
  {
   "cell_type": "code",
   "execution_count": 63,
   "id": "5d00eee1",
   "metadata": {},
   "outputs": [],
   "source": [
    "with open('cvvector.pkl', 'wb') as file:\n",
    "    pickle.dump(cv, file)\n",
    "    \n",
    "with open('model2.pkl', 'wb') as file:\n",
    "    pickle.dump(y_pred2, file)"
   ]
  },
  {
   "cell_type": "code",
   "execution_count": 22,
   "id": "90bb0869",
   "metadata": {},
   "outputs": [],
   "source": [
    "import pickle\n",
    "with open('cleaning.pkl', 'wb') as file:\n",
    "    pickle.dump(clean_n_lemmatize, file)\n",
    "\n",
    "with open('vectorizer.pkl', 'wb') as file:\n",
    "    pickle.dump(tfidf, file)\n",
    "\n",
    "with open('multimodel.pkl', 'wb') as file:\n",
    "    pickle.dump(y_pred, file)\n"
   ]
  },
  {
   "cell_type": "code",
   "execution_count": 70,
   "id": "b79528c1",
   "metadata": {},
   "outputs": [],
   "source": [
    "with open('cleaning.pkl', 'rb') as f:\n",
    "        cl = pickle.load(f)\n",
    "\n",
    "with open('vectorizer.pkl', 'rb') as f:\n",
    "        vectoriz = pickle.load(f)\n",
    "\n",
    "with open('multimodel.pkl', 'rb') as f:\n",
    "    nbbbbb = pickle.load(f)  "
   ]
  },
  {
   "cell_type": "code",
   "execution_count": 71,
   "id": "a0ebad6d",
   "metadata": {},
   "outputs": [
    {
     "data": {
      "text/plain": [
       "array([1], dtype=int64)"
      ]
     },
     "execution_count": 71,
     "metadata": {},
     "output_type": "execute_result"
    }
   ],
   "source": [
    "import joblib\n",
    "news = str(\"salamat found the player and did not kick\")\n",
    "testing_news = {\"text\": [news]}\n",
    "new_def_test = pd.DataFrame(testing_news)\n",
    "new_xv_test = new_def_test[\"text\"]\n",
    "text_clean = new_xv_test.apply(cl)\n",
    "new_x_test = new_def_test[\"text\"]\n",
    "vectorization = vectoriz.transform(new_x_test)\n",
    "prediction = nbbbbb.predict(vectorization)\n",
    "prediction"
   ]
  },
  {
   "cell_type": "code",
   "execution_count": null,
   "id": "2301f9ba",
   "metadata": {},
   "outputs": [],
   "source": []
  }
 ],
 "metadata": {
  "kernelspec": {
   "display_name": "Python 3 (ipykernel)",
   "language": "python",
   "name": "python3"
  },
  "language_info": {
   "codemirror_mode": {
    "name": "ipython",
    "version": 3
   },
   "file_extension": ".py",
   "mimetype": "text/x-python",
   "name": "python",
   "nbconvert_exporter": "python",
   "pygments_lexer": "ipython3",
   "version": "3.9.13"
  }
 },
 "nbformat": 4,
 "nbformat_minor": 5
}
