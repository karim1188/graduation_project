{
 "cells": [
  {
   "cell_type": "code",
   "execution_count": 59,
   "id": "6b2bce42",
   "metadata": {},
   "outputs": [],
   "source": [
    "import tensorflow as tf\n",
    "from sklearn.model_selection import train_test_split\n",
    "import matplotlib.pyplot as plt\n",
    "import seaborn as sns\n",
    "from tensorflow.keras.layers.experimental.preprocessing import TextVectorization\n",
    "from tensorflow.keras import layers\n",
    "from sklearn.feature_extraction.text import TfidfVectorizer\n",
    "from sklearn.naive_bayes import MultinomialNB\n",
    "from sklearn.pipeline import Pipeline\n",
    "from sklearn.metrics import accuracy_score, precision_recall_fscore_support\n",
    "import random\n",
    "from keras.callbacks import EarlyStopping"
   ]
  },
  {
   "cell_type": "code",
   "execution_count": 60,
   "id": "aad38c1e",
   "metadata": {},
   "outputs": [
    {
     "name": "stdout",
     "output_type": "stream",
     "text": [
      "                                               tweet\n",
      "0  the tongue of his condition, now i saw things ...\n",
      "1  by god the great, after i saw the derby of wyd...\n",
      "2  believe in god, this zamalek fans are as good ...\n",
      "3  the coach appeared in the media and told the t...\n",
      "4  asno smito\\nwhoever knows her tells me a massa...\n",
      "                                               tweet\n",
      "0  sun downs technical director: al-ahly respecte...\n",
      "1  shawky gharib after the tie with enppi: our go...\n",
      "2  egyptian sports news today, wednesday 1/25/202...\n",
      "3  the main referees committee of the egyptian fo...\n",
      "4  haji bari, the striker of the future team, is ...\n"
     ]
    }
   ],
   "source": [
    "fakeD = pd.read_csv(\"fake_football.csv\")\n",
    "realD = pd.read_csv(\"real_football.csv\")\n",
    "print(fakeD.head())\n",
    "print(realD.head())"
   ]
  },
  {
   "cell_type": "code",
   "execution_count": 61,
   "id": "4d0c7cfb",
   "metadata": {},
   "outputs": [],
   "source": [
    "realD[\"type\"] = 0\n",
    "fakeD[\"type\"] = 1"
   ]
  },
  {
   "cell_type": "code",
   "execution_count": 62,
   "id": "48fa1238",
   "metadata": {},
   "outputs": [
    {
     "name": "stdout",
     "output_type": "stream",
     "text": [
      "                                               tweet  type\n",
      "0  the tongue of his condition, now i saw things ...     1\n",
      "1  by god the great, after i saw the derby of wyd...     1\n",
      "2  believe in god, this zamalek fans are as good ...     1\n",
      "3  the coach appeared in the media and told the t...     1\n",
      "4  asno smito\\nwhoever knows her tells me a massa...     1\n",
      "                                                   tweet  type\n",
      "21864  shawky gharib: we excluded 4 players from the ...     0\n",
      "21865  dina musharraf resumes her career in the singa...     0\n",
      "21866  indeed, al-ahly ended its agreement with ricar...     0\n",
      "21867  hazem imam, the captain of zamalek, decided to...     0\n",
      "21868  walid al-attar, executive director of the egyp...     0\n",
      "--------------------\n",
      "<class 'pandas.core.frame.DataFrame'>\n",
      "Int64Index: 41868 entries, 0 to 21868\n",
      "Data columns (total 2 columns):\n",
      " #   Column  Non-Null Count  Dtype \n",
      "---  ------  --------------  ----- \n",
      " 0   tweet   41851 non-null  object\n",
      " 1   type    41868 non-null  int64 \n",
      "dtypes: int64(1), object(1)\n",
      "memory usage: 981.3+ KB\n",
      "None\n"
     ]
    }
   ],
   "source": [
    "tweets = pd.concat([fakeD, realD])\n",
    "print(tweets.head())\n",
    "print(tweets.tail())\n",
    "print(\"--------------------\")\n",
    "print(tweets.info())"
   ]
  },
  {
   "cell_type": "code",
   "execution_count": 63,
   "id": "21a21dbe",
   "metadata": {},
   "outputs": [
    {
     "data": {
      "text/plain": [
       "tweet    17\n",
       "type      0\n",
       "dtype: int64"
      ]
     },
     "execution_count": 63,
     "metadata": {},
     "output_type": "execute_result"
    }
   ],
   "source": [
    "tweets.isnull().sum()"
   ]
  },
  {
   "cell_type": "code",
   "execution_count": 64,
   "id": "cdf32952",
   "metadata": {},
   "outputs": [
    {
     "data": {
      "text/html": [
       "<div>\n",
       "<style scoped>\n",
       "    .dataframe tbody tr th:only-of-type {\n",
       "        vertical-align: middle;\n",
       "    }\n",
       "\n",
       "    .dataframe tbody tr th {\n",
       "        vertical-align: top;\n",
       "    }\n",
       "\n",
       "    .dataframe thead th {\n",
       "        text-align: right;\n",
       "    }\n",
       "</style>\n",
       "<table border=\"1\" class=\"dataframe\">\n",
       "  <thead>\n",
       "    <tr style=\"text-align: right;\">\n",
       "      <th></th>\n",
       "      <th>tweet</th>\n",
       "      <th>type</th>\n",
       "    </tr>\n",
       "  </thead>\n",
       "  <tbody>\n",
       "    <tr>\n",
       "      <th>0</th>\n",
       "      <td>i love football, i want them to be like fifa</td>\n",
       "      <td>1</td>\n",
       "    </tr>\n",
       "    <tr>\n",
       "      <th>1</th>\n",
       "      <td>mortada mansour: i trust the abilities of the ...</td>\n",
       "      <td>0</td>\n",
       "    </tr>\n",
       "    <tr>\n",
       "      <th>2</th>\n",
       "      <td>a lesson for today and every day, i wanted to ...</td>\n",
       "      <td>1</td>\n",
       "    </tr>\n",
       "    <tr>\n",
       "      <th>3</th>\n",
       "      <td>al-ahly defeats the genius team in a friendly ...</td>\n",
       "      <td>0</td>\n",
       "    </tr>\n",
       "    <tr>\n",
       "      <th>4</th>\n",
       "      <td>gamal mohamed ali, director of the coaches dep...</td>\n",
       "      <td>0</td>\n",
       "    </tr>\n",
       "  </tbody>\n",
       "</table>\n",
       "</div>"
      ],
      "text/plain": [
       "                                               tweet  type\n",
       "0       i love football, i want them to be like fifa     1\n",
       "1  mortada mansour: i trust the abilities of the ...     0\n",
       "2  a lesson for today and every day, i wanted to ...     1\n",
       "3  al-ahly defeats the genius team in a friendly ...     0\n",
       "4  gamal mohamed ali, director of the coaches dep...     0"
      ]
     },
     "execution_count": 64,
     "metadata": {},
     "output_type": "execute_result"
    }
   ],
   "source": [
    "tweets.dropna(inplace = True)\n",
    "tweets = tweets.sample(frac = 1).reset_index(drop = True)\n",
    "tweets.head()"
   ]
  },
  {
   "cell_type": "code",
   "execution_count": null,
   "id": "0f9783c6",
   "metadata": {},
   "outputs": [],
   "source": []
  },
  {
   "cell_type": "code",
   "execution_count": 67,
   "id": "788037e1",
   "metadata": {},
   "outputs": [
    {
     "data": {
      "text/plain": [
       "0    21863\n",
       "1    19988\n",
       "Name: type, dtype: int64"
      ]
     },
     "execution_count": 67,
     "metadata": {},
     "output_type": "execute_result"
    }
   ],
   "source": [
    "tweets.type.value_counts()"
   ]
  },
  {
   "cell_type": "code",
   "execution_count": 68,
   "id": "eafe0002",
   "metadata": {},
   "outputs": [
    {
     "ename": "NameError",
     "evalue": "name 'stopwords' is not defined",
     "output_type": "error",
     "traceback": [
      "\u001b[1;31m---------------------------------------------------------------------------\u001b[0m",
      "\u001b[1;31mNameError\u001b[0m                                 Traceback (most recent call last)",
      "\u001b[1;32m~\\AppData\\Local\\Temp\\ipykernel_25864\\1778895812.py\u001b[0m in \u001b[0;36m<module>\u001b[1;34m\u001b[0m\n\u001b[1;32m----> 1\u001b[1;33m \u001b[0mstopwords\u001b[0m \u001b[1;33m=\u001b[0m \u001b[0mstopwords\u001b[0m\u001b[1;33m.\u001b[0m\u001b[0mwords\u001b[0m\u001b[1;33m(\u001b[0m\u001b[1;34m'english'\u001b[0m\u001b[1;33m)\u001b[0m\u001b[1;33m\u001b[0m\u001b[1;33m\u001b[0m\u001b[0m\n\u001b[0m\u001b[0;32m      2\u001b[0m \u001b[0mwordnetlem\u001b[0m \u001b[1;33m=\u001b[0m \u001b[0mnltk\u001b[0m\u001b[1;33m.\u001b[0m\u001b[0mWordNetLemmatizer\u001b[0m\u001b[1;33m(\u001b[0m\u001b[1;33m)\u001b[0m\u001b[1;33m\u001b[0m\u001b[1;33m\u001b[0m\u001b[0m\n",
      "\u001b[1;31mNameError\u001b[0m: name 'stopwords' is not defined"
     ]
    }
   ],
   "source": [
    "stopwords = stopwords.words('english')\n",
    "wordnetlem = nltk.WordNetLemmatizer()"
   ]
  }
 ],
 "metadata": {
  "kernelspec": {
   "display_name": "Python 3 (ipykernel)",
   "language": "python",
   "name": "python3"
  },
  "language_info": {
   "codemirror_mode": {
    "name": "ipython",
    "version": 3
   },
   "file_extension": ".py",
   "mimetype": "text/x-python",
   "name": "python",
   "nbconvert_exporter": "python",
   "pygments_lexer": "ipython3",
   "version": "3.9.13"
  }
 },
 "nbformat": 4,
 "nbformat_minor": 5
}
